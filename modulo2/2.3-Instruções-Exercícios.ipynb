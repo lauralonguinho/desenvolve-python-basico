{
  "cells": [
    {
      "cell_type": "markdown",
      "metadata": {
        "id": "1pCTdOHonv5f"
      },
      "source": [
        "# Módulo 2\n",
        "\n",
        "## 2.3 Instruções e Expressões\n",
        "\n",
        "### Q1\n",
        "\n",
        "Faça um programa que armazene o valor de 20 reais de salário por hora de um trabalhador, e o número de 40 horas trabalhadas na semana. Com essas informações, calcule e imprima:\n",
        "- Salário semanal bruto\n",
        "- Valor descontado por semana INSS (10% do bruto)\n",
        "- Valor descontado por semana pelo sindicato (5% do bruto)\n",
        "- Salário semanal líquido (Bruto - Descontos)"
      ]
    },
    {
      "cell_type": "code",
      "execution_count": null,
      "metadata": {
        "id": "hVbX0I97nj6M"
      },
      "outputs": [],
      "source": [
        "## Escreva e execute seu código aqui\n",
        "\n",
        "#Dados\n",
        "salario_hora = 20\n",
        "horas_semana = 40\n",
        "\n",
        "#Salário semanal\n",
        "salario_semanal = salario_hora * horas_semana\n",
        "\n",
        "#Descontos\n",
        "inss      = salario_semanal * 0.10 #INSS(10% do bruto)\n",
        "sindicato = salario_semanal * 0.05  #Sindicato(5% do bruto)\n",
        "descontos = inss + sindicato\n",
        "\n",
        "#Salário líquido\n",
        "salario_liquido = salario_semanal - descontos\n",
        "\n",
        "#Saída\n",
        "print(f\"O salário semanal bruto é de {salario_semanal}\")\n",
        "print(f\"O valor descontado pelo inss é de {inss}\")\n",
        "print(f\"O valor descontado pelo sindicato é de {sindicato}\")\n",
        "print(f\"O salário semanal líquido é de {salario_liquido}\")"
      ]
    },
    {
      "cell_type": "markdown",
      "metadata": {
        "id": "pIxKX9J2oGZ1"
      },
      "source": [
        "### Q2\n",
        "\n",
        "Altere o programa anterior para a partir dos valores de horas trabalhadas por semana e salário por hora, calcular **em somente duas instruções**:\n",
        "- Salário semanal bruto\n",
        "- Salário semanal líquido com todos os descontos. Para a segunda instrução, realize todos os cálculos aritméticos em uma expressão composta.\n"
      ]
    },
    {
      "cell_type": "code",
      "execution_count": null,
      "metadata": {
        "id": "pAHw9Xf9oGoi"
      },
      "outputs": [],
      "source": [
        "## Escreva e execute seu código aqui\n",
        "\n",
        "salario_hora = 20\n",
        "horas_semana = 40\n",
        "\n",
        "#Salário semanal\n",
        "salario_semanal = salario_hora * horas_semana #1° instrução\n",
        "\n",
        "#Salário líquido\n",
        "salario_liquido = salario_semanal * (1 - (0.10 + 0.05)) #2° instrução\n",
        "\n",
        "#Saída\n",
        "print(f\"O salário semanal líquido é de {salario_liquido}\")"
      ]
    },
    {
      "cell_type": "markdown",
      "metadata": {
        "id": "m8tlHRuWpBOB"
      },
      "source": [
        "### Q3\n",
        "\n",
        "Você está desenvolvendo um software de conversão de moeda e precisa calcular o valor equivalente em yuan chinês a partir de uma quantia em real. A taxa de câmbio é de 0.69 BRL (real) para 1 CNY (yuan). Escreva um programa que define em uma variável uma quantia em reais (BRL) e calcula o valor equivalente em yuan (CNY). Imprima o resultado."
      ]
    },
    {
      "cell_type": "code",
      "execution_count": null,
      "metadata": {
        "id": "2bPw7uF6oeL9"
      },
      "outputs": [],
      "source": [
        "## Escreva e execute seu código aqui\n",
        "\n",
        "cny      = 1    #moeda chinesa\n",
        "moeda_br = 50   #valor aleatório\n",
        "taxa     = 0.69 #baseada no Real\n",
        "\n",
        "#conversão\n",
        "moeda_cny = moeda_br / taxa\n",
        "\n",
        "#Saída\n",
        "print(moeda_cny)"
      ]
    },
    {
      "cell_type": "markdown",
      "metadata": {
        "id": "-Na3ltDCp74A"
      },
      "source": [
        "### Q4\n",
        "\n",
        "Você é um treinador de corrida e deseja calcular a velocidade média que um atleta precisa manter para completar a Maratona Internacional de São Silvestre, que tem uma distância total de 42.195 km. A fórmula para calcular a velocidade média ($v\\_media$) é dada por $v\\_media = \\frac{distancia}{tempo}$ . Escreva um programa em Python para calcular a velocidade média necessária para completar a maratona em 3 horas.\n",
        "\n",
        "**Calcule e imprima o resultado em metros/segundo**, ou seja, converta a distância de quilômetros para metros ($metro = \\frac{km}{1000}$) e a velocidade de horas para segundos $(segundo = \\frac{hora}{3600})$."
      ]
    },
    {
      "cell_type": "code",
      "execution_count": null,
      "metadata": {
        "id": "Bn6l8kcSrE4L"
      },
      "outputs": [],
      "source": [
        "## Escreva e execute seu código aqui\n",
        "\n",
        "#Dados\n",
        "distancia_km      = 42.195\n",
        "horas_necessarias = 3\n",
        "\n",
        "#conversão\n",
        "distancia_m          = distancia_km * 1000\n",
        "segundos_necessarios = horas_necessarias *  3600\n",
        "v_media = distancia_m / segundos_necessarios\n",
        "\n",
        "#Saída\n",
        "print(v_media)"
      ]
    }
  ],
  "metadata": {
    "colab": {
      "provenance": []
    },
    "kernelspec": {
      "display_name": "Python 3",
      "name": "python3"
    },
    "language_info": {
      "name": "python"
    }
  },
  "nbformat": 4,
  "nbformat_minor": 0
}
